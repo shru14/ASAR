{
 "cells": [
  {
   "cell_type": "code",
   "execution_count": 1,
   "metadata": {},
   "outputs": [],
   "source": [
    "import pandas as pd\n",
    "import numpy as np\n",
    "import os"
   ]
  },
  {
   "cell_type": "code",
   "execution_count": 2,
   "metadata": {},
   "outputs": [],
   "source": [
    "DIRNAME = '/home/kakade/Downloads/combined_data'"
   ]
  },
  {
   "cell_type": "code",
   "execution_count": 3,
   "metadata": {},
   "outputs": [],
   "source": [
    "def update_data(df):\n",
    "    data = df.fillna(method='ffill', axis=1).iloc[:-1].fillna(\"\")\n",
    "    \n",
    "    data.columns = [x0.strip()+\"-\"+x1.strip() for x0, x1 in zip(data.loc[0].values, data.loc[1].values)]\n",
    "   # data.columns = pd.MultiIndex.from_arrays([data.loc[0].values, data.loc[1].values])\n",
    "    data = data.drop([0,1])\n",
    "    return data"
   ]
  },
  {
   "cell_type": "code",
   "execution_count": 4,
   "metadata": {},
   "outputs": [],
   "source": [
    "frames, names = [], []\n",
    "for fname in os.listdir(DIRNAME):\n",
    "    if fname.endswith('.csv') and fname.startswith(''):\n",
    "        csvpath = os.path.join(DIRNAME, fname)\n",
    "        df = pd.read_csv(csvpath, header=None, index_col=None)\n",
    "        data = update_data(df)\n",
    "        if data.shape[0] ==2:\n",
    "           # print(data.shape)\n",
    "           # if len(data.columns.unique())==len(data.columns):\n",
    "            \n",
    "            frames.append(data[data.columns.sort_values()])\n",
    "            names.append(csvpath)"
   ]
  },
  {
   "cell_type": "code",
   "execution_count": 5,
   "metadata": {},
   "outputs": [
    {
     "ename": "ValueError",
     "evalue": "Plan shapes are not aligned",
     "output_type": "error",
     "traceback": [
      "\u001b[0;31m---------------------------------------------------------------------------\u001b[0m",
      "\u001b[0;31mValueError\u001b[0m                                Traceback (most recent call last)",
      "\u001b[0;32m<ipython-input-5-dadcc0feac79>\u001b[0m in \u001b[0;36m<module>\u001b[0;34m\u001b[0m\n\u001b[0;32m----> 1\u001b[0;31m \u001b[0mconcatenated\u001b[0m\u001b[0;34m=\u001b[0m\u001b[0mpd\u001b[0m\u001b[0;34m.\u001b[0m\u001b[0mconcat\u001b[0m\u001b[0;34m(\u001b[0m\u001b[0mframes\u001b[0m\u001b[0;34m,\u001b[0m \u001b[0mjoin\u001b[0m\u001b[0;34m=\u001b[0m\u001b[0;34m'outer'\u001b[0m\u001b[0;34m)\u001b[0m\u001b[0;34m\u001b[0m\u001b[0;34m\u001b[0m\u001b[0m\n\u001b[0m",
      "\u001b[0;32m/home/neil/miniconda/lib/python3.7/site-packages/pandas/core/reshape/concat.py\u001b[0m in \u001b[0;36mconcat\u001b[0;34m(objs, axis, join, ignore_index, keys, levels, names, verify_integrity, sort, copy)\u001b[0m\n\u001b[1;32m    282\u001b[0m     )\n\u001b[1;32m    283\u001b[0m \u001b[0;34m\u001b[0m\u001b[0m\n\u001b[0;32m--> 284\u001b[0;31m     \u001b[0;32mreturn\u001b[0m \u001b[0mop\u001b[0m\u001b[0;34m.\u001b[0m\u001b[0mget_result\u001b[0m\u001b[0;34m(\u001b[0m\u001b[0;34m)\u001b[0m\u001b[0;34m\u001b[0m\u001b[0;34m\u001b[0m\u001b[0m\n\u001b[0m\u001b[1;32m    285\u001b[0m \u001b[0;34m\u001b[0m\u001b[0m\n\u001b[1;32m    286\u001b[0m \u001b[0;34m\u001b[0m\u001b[0m\n",
      "\u001b[0;32m/home/neil/miniconda/lib/python3.7/site-packages/pandas/core/reshape/concat.py\u001b[0m in \u001b[0;36mget_result\u001b[0;34m(self)\u001b[0m\n\u001b[1;32m    495\u001b[0m \u001b[0;34m\u001b[0m\u001b[0m\n\u001b[1;32m    496\u001b[0m             new_data = concatenate_block_managers(\n\u001b[0;32m--> 497\u001b[0;31m                 \u001b[0mmgrs_indexers\u001b[0m\u001b[0;34m,\u001b[0m \u001b[0mself\u001b[0m\u001b[0;34m.\u001b[0m\u001b[0mnew_axes\u001b[0m\u001b[0;34m,\u001b[0m \u001b[0mconcat_axis\u001b[0m\u001b[0;34m=\u001b[0m\u001b[0mself\u001b[0m\u001b[0;34m.\u001b[0m\u001b[0maxis\u001b[0m\u001b[0;34m,\u001b[0m \u001b[0mcopy\u001b[0m\u001b[0;34m=\u001b[0m\u001b[0mself\u001b[0m\u001b[0;34m.\u001b[0m\u001b[0mcopy\u001b[0m\u001b[0;34m\u001b[0m\u001b[0;34m\u001b[0m\u001b[0m\n\u001b[0m\u001b[1;32m    498\u001b[0m             )\n\u001b[1;32m    499\u001b[0m             \u001b[0;32mif\u001b[0m \u001b[0;32mnot\u001b[0m \u001b[0mself\u001b[0m\u001b[0;34m.\u001b[0m\u001b[0mcopy\u001b[0m\u001b[0;34m:\u001b[0m\u001b[0;34m\u001b[0m\u001b[0;34m\u001b[0m\u001b[0m\n",
      "\u001b[0;32m/home/neil/miniconda/lib/python3.7/site-packages/pandas/core/internals/managers.py\u001b[0m in \u001b[0;36mconcatenate_block_managers\u001b[0;34m(mgrs_indexers, axes, concat_axis, copy)\u001b[0m\n\u001b[1;32m   2004\u001b[0m     \u001b[0mblocks\u001b[0m \u001b[0;34m=\u001b[0m \u001b[0;34m[\u001b[0m\u001b[0;34m]\u001b[0m\u001b[0;34m\u001b[0m\u001b[0;34m\u001b[0m\u001b[0m\n\u001b[1;32m   2005\u001b[0m \u001b[0;34m\u001b[0m\u001b[0m\n\u001b[0;32m-> 2006\u001b[0;31m     \u001b[0;32mfor\u001b[0m \u001b[0mplacement\u001b[0m\u001b[0;34m,\u001b[0m \u001b[0mjoin_units\u001b[0m \u001b[0;32min\u001b[0m \u001b[0mconcat_plan\u001b[0m\u001b[0;34m:\u001b[0m\u001b[0;34m\u001b[0m\u001b[0;34m\u001b[0m\u001b[0m\n\u001b[0m\u001b[1;32m   2007\u001b[0m \u001b[0;34m\u001b[0m\u001b[0m\n\u001b[1;32m   2008\u001b[0m         \u001b[0;32mif\u001b[0m \u001b[0mlen\u001b[0m\u001b[0;34m(\u001b[0m\u001b[0mjoin_units\u001b[0m\u001b[0;34m)\u001b[0m \u001b[0;34m==\u001b[0m \u001b[0;36m1\u001b[0m \u001b[0;32mand\u001b[0m \u001b[0;32mnot\u001b[0m \u001b[0mjoin_units\u001b[0m\u001b[0;34m[\u001b[0m\u001b[0;36m0\u001b[0m\u001b[0;34m]\u001b[0m\u001b[0;34m.\u001b[0m\u001b[0mindexers\u001b[0m\u001b[0;34m:\u001b[0m\u001b[0;34m\u001b[0m\u001b[0;34m\u001b[0m\u001b[0m\n",
      "\u001b[0;32m/home/neil/miniconda/lib/python3.7/site-packages/pandas/core/internals/concat.py\u001b[0m in \u001b[0;36mcombine_concat_plans\u001b[0;34m(plans, concat_axis)\u001b[0m\n\u001b[1;32m    468\u001b[0m         \u001b[0;32mwhile\u001b[0m \u001b[0mnum_ended\u001b[0m\u001b[0;34m[\u001b[0m\u001b[0;36m0\u001b[0m\u001b[0;34m]\u001b[0m \u001b[0;34m!=\u001b[0m \u001b[0mlen\u001b[0m\u001b[0;34m(\u001b[0m\u001b[0mnext_items\u001b[0m\u001b[0;34m)\u001b[0m\u001b[0;34m:\u001b[0m\u001b[0;34m\u001b[0m\u001b[0;34m\u001b[0m\u001b[0m\n\u001b[1;32m    469\u001b[0m             \u001b[0;32mif\u001b[0m \u001b[0mnum_ended\u001b[0m\u001b[0;34m[\u001b[0m\u001b[0;36m0\u001b[0m\u001b[0;34m]\u001b[0m \u001b[0;34m>\u001b[0m \u001b[0;36m0\u001b[0m\u001b[0;34m:\u001b[0m\u001b[0;34m\u001b[0m\u001b[0;34m\u001b[0m\u001b[0m\n\u001b[0;32m--> 470\u001b[0;31m                 \u001b[0;32mraise\u001b[0m \u001b[0mValueError\u001b[0m\u001b[0;34m(\u001b[0m\u001b[0;34m\"Plan shapes are not aligned\"\u001b[0m\u001b[0;34m)\u001b[0m\u001b[0;34m\u001b[0m\u001b[0;34m\u001b[0m\u001b[0m\n\u001b[0m\u001b[1;32m    471\u001b[0m \u001b[0;34m\u001b[0m\u001b[0m\n\u001b[1;32m    472\u001b[0m             \u001b[0mplacements\u001b[0m\u001b[0;34m,\u001b[0m \u001b[0munits\u001b[0m \u001b[0;34m=\u001b[0m \u001b[0mzip\u001b[0m\u001b[0;34m(\u001b[0m\u001b[0;34m*\u001b[0m\u001b[0mnext_items\u001b[0m\u001b[0;34m)\u001b[0m\u001b[0;34m\u001b[0m\u001b[0;34m\u001b[0m\u001b[0m\n",
      "\u001b[0;31mValueError\u001b[0m: Plan shapes are not aligned"
     ]
    }
   ],
   "source": [
    "concatenated=pd.concat(frames, join='outer')"
   ]
  },
  {
   "cell_type": "code",
   "execution_count": null,
   "metadata": {},
   "outputs": [],
   "source": [
    "concatenated.columns.sort_values()"
   ]
  },
  {
   "cell_type": "code",
   "execution_count": null,
   "metadata": {},
   "outputs": [],
   "source": [
    "dictionary = {\n",
    "\"Being tested-Deceased\": \"Deceased\",\n",
    "\"Confirmed cases-Death\": \"Deceased\",\n",
    "\"Confirmed cases-Deceased\": \"Deceased\",\n",
    "\"Confirmed cases-Discharged\": \"Discharged\",\n",
    "\"Confirmed cases-Isolated\": \"confirmed_isolated\",\n",
    "\"Confirmed cases-Sub total\": \"Total_confirmed\",\n",
    "\"Confirmed cases-Sub total\": \"Total_confirmed\",\n",
    "\"Confirmed cases-Sub- total\": \"Total_confirmed\",\n",
    "\"Confirmed cases-Sub- total\": \"Total_confirmed\",\n",
    "\"Confirmed cases-Sub-total\": \"Total_confirmed\",\n",
    "\"Confirmed cases-deceased\": \"Deceased\",\n",
    "\"Confirmed cases-discharged\": \"Discharged\",\n",
    "\"Confirmed cases-in-patient\": \"Total_confirmed\",\n",
    "\"Confirmed cases-isolated\": \"confirmed_isolated\",\n",
    "\"Period (Since 3 Jan)-\": \"Period\",\n",
    "\"Period (since 3 Jan)-\": \"Period\",\n",
    "\"Period (since 3 January)-\": \"Period\",\n",
    "\"Period (since 3 Jan)-\": \"Period\",\n",
    "\"Period  (since 3 January)-\": \"Period\",\n",
    "\"Period-\": \"Period\",\n",
    "\"Suspected cases-Being tested\": \"total_suspected\",\n",
    "\"Suspected cases-Sub total\": \"total_suspected\",\n",
    "\"Suspected cases-Sub total\": \"total_suspected\",\n",
    "\"Suspected cases-Sub- total\": \"total_suspected\",\n",
    "\"Suspected cases-Sub-total\": \"total_suspected\",\n",
    "\"Suspected cases-Tested Negative\": \"suspected_negative\",\n",
    "\"Suspected cases-Tested negative\": \"suspected_negative\",\n",
    "\"Suspected cases-Under testing\": \"suspected_under_testing\",\n",
    "\"Suspected cases-being tested\": \"suspected_under_testing\",\n",
    "\"Suspected cases-being tested\": \"suspected_under_testing\",\n",
    "\"Suspected cases-being tested\": \"suspected_under_testing\",\n",
    "\"Suspected cases-isolated\": \"suspected_isolated\",\n",
    "\"Suspected cases-released\": \"suspected_released\",\n",
    "\"Suspected cases-tested negative\": \"suspected_negative\",\n",
    "\"Suspected cases-tested negative\": \"suspected_negative\",\n",
    "\"Suspected cases-tested negative\": \"suspected_negative\",\n",
    "\"Test status-Sub-total\": \"total_suspected\",\n",
    "\"Test status-being tested\": \"suspected_under_testing\",\n",
    "\"Test status-tested negative\": \"suspected_negative\",\n",
    "\"Tested negative-Deceased\": \"Deceased\",\n",
    "\"Tested positive (PCR)-Confirmed\": \"Total_confirmed\",\n",
    "\"Tested positive (PCR)-Deceased\": \"Deceased\",\n",
    "\"Tested positive (PCR)-Discharged\": \"Discharged\",\n",
    "\"Tested positive (PCR)-Isolated\": \"confirmed_isolated\",\n",
    "\"Tested positive-Confirmed\": \"Total_confirmed\",\n",
    "\"Tested positive-Deceased\": \"Deceased\",\n",
    "\"Tested positive-Discharged\": \"Discharged\",\n",
    "\"Tested positive-Isolated\": \"confirmed_isolated\",\n",
    "\"Total-\": \"Total\",\n",
    "\"Total-Confirmed\": \"Total_confirmed\",\n",
    "\"Suspected cases-Sub total\":\"total_suspected\",\n",
    "\"Confirmed cases-Sub total\":\"Total_confirmed\"\n",
    "}"
   ]
  },
  {
   "cell_type": "code",
   "execution_count": null,
   "metadata": {},
   "outputs": [],
   "source": [
    "def overlap_index(group):\n",
    "    index = [\n",
    "        str(idx) for idx in\n",
    "        np.where(group.apply(\n",
    "            lambda x: x.shape[0] - 1 != x.isna().sum(), axis=1))[0]]\n",
    "    return \", \".join(index)\n",
    "    \n",
    "\n",
    "def simplify(data, mapping):\n",
    "    mapped = data.rename(mapping, axis=1)\n",
    "    gb = mapped.groupby(mapped.columns, axis=1)\n",
    "    names, values = [], []\n",
    "    for name, group in gb:\n",
    "        names.append(name)\n",
    "        try:\n",
    "            values.append(group.apply(\n",
    "                lambda x: x.dropna(), axis=1).values[:, 0])\n",
    "        except ValueError as ve:\n",
    "            raise ValueError(f\"{name} has overlapping \"\n",
    "                             f\"entries {overlap_index(group)}\")\n",
    "    return pd.DataFrame(np.stack(values).T, columns=names, index=mapped.index)\n"
   ]
  },
  {
   "cell_type": "code",
   "execution_count": null,
   "metadata": {},
   "outputs": [],
   "source": [
    "simplify(concatenated, dictionary)"
   ]
  },
  {
   "cell_type": "code",
   "execution_count": null,
   "metadata": {},
   "outputs": [],
   "source": [
    "concatenated.iloc[2].rename(dictionary)"
   ]
  },
  {
   "cell_type": "code",
   "execution_count": null,
   "metadata": {},
   "outputs": [],
   "source": [
    "concatenated.iloc[2]"
   ]
  },
  {
   "cell_type": "code",
   "execution_count": null,
   "metadata": {},
   "outputs": [],
   "source": []
  }
 ],
 "metadata": {
  "kernelspec": {
   "display_name": "Python 3",
   "language": "python",
   "name": "python3"
  },
  "language_info": {
   "codemirror_mode": {
    "name": "ipython",
    "version": 3
   },
   "file_extension": ".py",
   "mimetype": "text/x-python",
   "name": "python",
   "nbconvert_exporter": "python",
   "pygments_lexer": "ipython3",
   "version": "3.7.3"
  }
 },
 "nbformat": 4,
 "nbformat_minor": 2
}
